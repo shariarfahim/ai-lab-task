{
  "nbformat": 4,
  "nbformat_minor": 0,
  "metadata": {
    "colab": {
      "name": "course managment.ipynb",
      "provenance": [],
      "authorship_tag": "ABX9TyOg9Qq58aYk2OWBOiwj87wG",
      "include_colab_link": true
    },
    "kernelspec": {
      "name": "python3",
      "display_name": "Python 3"
    }
  },
  "cells": [
    {
      "cell_type": "markdown",
      "metadata": {
        "id": "view-in-github",
        "colab_type": "text"
      },
      "source": [
        "<a href=\"https://colab.research.google.com/github/shariarfahim/ai-lab-task/blob/main/course_managment.ipynb\" target=\"_parent\"><img src=\"https://colab.research.google.com/assets/colab-badge.svg\" alt=\"Open In Colab\"/></a>"
      ]
    },
    {
      "cell_type": "code",
      "metadata": {
        "colab": {
          "base_uri": "https://localhost:8080/"
        },
        "id": "L42N5ES4Ap5t",
        "outputId": "6c3ace72-4abf-4302-a0e6-398706e25039"
      },
      "source": [
        "courses = []\r\n",
        "primary_key = 'random'\r\n",
        "def printing_massage():\r\n",
        "    print('MENU')\r\n",
        "    print('1. Add course')\r\n",
        "    print('2. Complete course')\r\n",
        "    print('3. View courses')\r\n",
        "    print('4. Exit')\r\n",
        "    choice = input('Enter Choice:')\r\n",
        "    return choice\r\n",
        "\r\n",
        "while primary_key != '4':\r\n",
        "    # main will return the choice\r\n",
        "    primary_key = printing_massage()\r\n",
        "    if primary_key == '1':\r\n",
        "        course = input('Enter course name :  ')\r\n",
        "        courses.append(course)\r\n",
        "        print('Course', course, 'added\\n')\r\n",
        "    elif primary_key == '2':\r\n",
        "        course = input('Enter completed Course')\r\n",
        "        if course in courses:\r\n",
        "            courses.remove(course)\r\n",
        "            print(course, 'course completed')\r\n",
        "        else:\r\n",
        "            print('Not found', course)\r\n",
        "\r\n",
        "\r\n",
        "    elif primary_key== '3':\r\n",
        "        print('View the courses:')\r\n",
        "        for course in courses:\r\n",
        "            print(course)\r\n",
        "    elif primary_key == '4':\r\n",
        "        print('___Exiting___\\n')\r\n",
        "    else:\r\n",
        "        print('Enter Choice between (1-4): \\n')"
      ],
      "execution_count": 2,
      "outputs": [
        {
          "output_type": "stream",
          "text": [
            "MENU\n",
            "1. Add course\n",
            "2. Complete course\n",
            "3. View courses\n",
            "4. Exit\n",
            "Enter Choice:1\n",
            "Enter course name :  DBMS\n",
            "Course DBMS added\n",
            "\n",
            "MENU\n",
            "1. Add course\n",
            "2. Complete course\n",
            "3. View courses\n",
            "4. Exit\n",
            "Enter Choice:1\n",
            "Enter course name :  CN\n",
            "Course CN added\n",
            "\n",
            "MENU\n",
            "1. Add course\n",
            "2. Complete course\n",
            "3. View courses\n",
            "4. Exit\n",
            "Enter Choice:3\n",
            "View the courses:\n",
            "DBMS\n",
            "CN\n",
            "MENU\n",
            "1. Add course\n",
            "2. Complete course\n",
            "3. View courses\n",
            "4. Exit\n",
            "Enter Choice:2\n",
            "Enter completed CourseCN\n",
            "CN course completed\n",
            "MENU\n",
            "1. Add course\n",
            "2. Complete course\n",
            "3. View courses\n",
            "4. Exit\n",
            "Enter Choice:3\n",
            "View the courses:\n",
            "DBMS\n",
            "MENU\n",
            "1. Add course\n",
            "2. Complete course\n",
            "3. View courses\n",
            "4. Exit\n",
            "Enter Choice:4\n",
            "___Exiting___\n",
            "\n"
          ],
          "name": "stdout"
        }
      ]
    }
  ]
}